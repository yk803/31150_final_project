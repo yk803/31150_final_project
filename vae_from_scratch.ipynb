{
  "nbformat": 4,
  "nbformat_minor": 0,
  "metadata": {
    "colab": {
      "provenance": [],
      "gpuType": "T4"
    },
    "kernelspec": {
      "name": "python3",
      "display_name": "Python 3"
    },
    "language_info": {
      "name": "python"
    },
    "accelerator": "GPU"
  },
  "cells": [
    {
      "cell_type": "code",
      "execution_count": 1,
      "metadata": {
        "colab": {
          "base_uri": "https://localhost:8080/"
        },
        "id": "qDA2EJioMtI-",
        "outputId": "5bf184ab-075f-4196-a0e1-bf9f0044ef1f"
      },
      "outputs": [
        {
          "output_type": "stream",
          "name": "stdout",
          "text": [
            "Downloading http://yann.lecun.com/exdb/mnist/train-images-idx3-ubyte.gz\n",
            "Downloading http://yann.lecun.com/exdb/mnist/train-images-idx3-ubyte.gz to ./data/MNIST/raw/train-images-idx3-ubyte.gz\n"
          ]
        },
        {
          "output_type": "stream",
          "name": "stderr",
          "text": [
            "100%|██████████| 9912422/9912422 [00:00<00:00, 124311064.60it/s]\n"
          ]
        },
        {
          "output_type": "stream",
          "name": "stdout",
          "text": [
            "Extracting ./data/MNIST/raw/train-images-idx3-ubyte.gz to ./data/MNIST/raw\n",
            "\n",
            "Downloading http://yann.lecun.com/exdb/mnist/train-labels-idx1-ubyte.gz\n",
            "Downloading http://yann.lecun.com/exdb/mnist/train-labels-idx1-ubyte.gz to ./data/MNIST/raw/train-labels-idx1-ubyte.gz\n"
          ]
        },
        {
          "output_type": "stream",
          "name": "stderr",
          "text": [
            "100%|██████████| 28881/28881 [00:00<00:00, 121500194.41it/s]\n"
          ]
        },
        {
          "output_type": "stream",
          "name": "stdout",
          "text": [
            "Extracting ./data/MNIST/raw/train-labels-idx1-ubyte.gz to ./data/MNIST/raw\n",
            "\n",
            "Downloading http://yann.lecun.com/exdb/mnist/t10k-images-idx3-ubyte.gz\n",
            "Downloading http://yann.lecun.com/exdb/mnist/t10k-images-idx3-ubyte.gz to ./data/MNIST/raw/t10k-images-idx3-ubyte.gz\n"
          ]
        },
        {
          "output_type": "stream",
          "name": "stderr",
          "text": [
            "100%|██████████| 1648877/1648877 [00:00<00:00, 14734130.41it/s]\n"
          ]
        },
        {
          "output_type": "stream",
          "name": "stdout",
          "text": [
            "Extracting ./data/MNIST/raw/t10k-images-idx3-ubyte.gz to ./data/MNIST/raw\n",
            "\n",
            "Downloading http://yann.lecun.com/exdb/mnist/t10k-labels-idx1-ubyte.gz\n",
            "Downloading http://yann.lecun.com/exdb/mnist/t10k-labels-idx1-ubyte.gz to ./data/MNIST/raw/t10k-labels-idx1-ubyte.gz\n"
          ]
        },
        {
          "output_type": "stream",
          "name": "stderr",
          "text": [
            "100%|██████████| 4542/4542 [00:00<00:00, 18658696.15it/s]\n"
          ]
        },
        {
          "output_type": "stream",
          "name": "stdout",
          "text": [
            "Extracting ./data/MNIST/raw/t10k-labels-idx1-ubyte.gz to ./data/MNIST/raw\n",
            "\n"
          ]
        },
        {
          "output_type": "stream",
          "name": "stderr",
          "text": [
            "100%|██████████| 50/50 [06:21<00:00,  7.62s/it, latent_dimension=2, epoch=49, loss=1.91e+4]\n",
            "100%|██████████| 50/50 [06:24<00:00,  7.69s/it, latent_dimension=5, epoch=49, loss=1.6e+4]\n",
            "100%|██████████| 50/50 [06:17<00:00,  7.54s/it, latent_dimension=10, epoch=49, loss=1.42e+4]\n",
            "100%|██████████| 50/50 [06:13<00:00,  7.48s/it, latent_dimension=20, epoch=49, loss=1.43e+4]\n",
            "100%|██████████| 50/50 [06:19<00:00,  7.60s/it, latent_dimension=50, epoch=49, loss=1.48e+4]\n"
          ]
        }
      ],
      "source": [
        "import torch\n",
        "import torch.nn as nn\n",
        "import torch.optim as optim\n",
        "from torch.utils.data import DataLoader\n",
        "from torchvision import datasets, transforms\n",
        "from torchvision.utils import save_image\n",
        "import matplotlib.pyplot as plt\n",
        "from tqdm import tqdm\n",
        "import numpy as np\n",
        "\n",
        "# Set random seed for reproducibility\n",
        "torch.manual_seed(42)\n",
        "\n",
        "# Hyperparameters\n",
        "batch_size = 128\n",
        "latent_dim = 20\n",
        "epochs = 50\n",
        "# learning_rate = 1e-2\n",
        "\n",
        "# MNIST dataset\n",
        "transform = transforms.Compose([transforms.ToTensor()])\n",
        "train_dataset = datasets.MNIST(root='./data', train=True, transform=transform, download=True)\n",
        "train_loader = DataLoader(dataset=train_dataset, batch_size=batch_size, shuffle=True, drop_last=True)\n",
        "\n",
        "# VAE Model\n",
        "class VAE(nn.Module):\n",
        "    def __init__(self,latent_dim):\n",
        "        super(VAE, self).__init__()\n",
        "\n",
        "        self.encoder = nn.Sequential(\n",
        "            nn.Linear(28 * 28, 400),\n",
        "            nn.ReLU(),\n",
        "            nn.Linear(400, 2 * latent_dim)  # Two times latent_dim for mean and variance\n",
        "        )\n",
        "\n",
        "        self.decoder = nn.Sequential(\n",
        "            nn.Linear(latent_dim, 400),\n",
        "            nn.ReLU(),\n",
        "            nn.Linear(400, 28 * 28),\n",
        "            nn.Sigmoid()\n",
        "        )\n",
        "\n",
        "    def reparameterize(self, mu, logvar):\n",
        "        std = torch.exp(0.5 * logvar)\n",
        "        eps = torch.randn_like(std)\n",
        "        return mu + eps * std\n",
        "\n",
        "    def forward(self, x):\n",
        "        x = x.view(-1, 28 * 28)\n",
        "        enc_output = self.encoder(x)\n",
        "        mu, logvar = enc_output[:, :latent_dim], enc_output[:, latent_dim:]\n",
        "        z = self.reparameterize(mu, logvar)\n",
        "        decoded = self.decoder(z)\n",
        "        return decoded, mu, logvar\n",
        "\n",
        "# Loss function\n",
        "def vae_loss(recon_x, x, mu, logvar):\n",
        "    BCE = nn.functional.binary_cross_entropy(recon_x, x.view(-1, 28 * 28), reduction='sum')\n",
        "\n",
        "    # See Appendix B from VAE paper:\n",
        "    # Kingma and Welling. Auto-Encoding Variational Bayes. ICLR, 2014\n",
        "    # https://arxiv.org/abs/1312.6114\n",
        "    KLD = -0.5 * torch.sum(1 + logvar - mu.pow(2) - logvar.exp())\n",
        "\n",
        "    return BCE + KLD\n",
        "\n",
        "\n",
        "\n",
        "def visualize_manifold(model, lr, save_path='vae_lr_manifold.png', n=256):\n",
        "    model.eval()\n",
        "    with torch.no_grad():\n",
        "        # Sample points from the latent space\n",
        "        torch.manual_seed(0)\n",
        "        latent_points = torch.randn(n, latent_dim).to(device)\n",
        "\n",
        "        # Decode the latent points to generate images\n",
        "        generated_images = model.decoder(latent_points)\n",
        "\n",
        "        # Reshape the generated images\n",
        "        generated_images = generated_images.view(-1, 1, 28, 28)\n",
        "\n",
        "        # Save the generated images as a grid\n",
        "        fname = save_path.split('_lr_')\n",
        "        save_path = fname[0] + '_' + str(lr)+'_'+fname[1]\n",
        "        save_image(generated_images, save_path, nrow=int(np.sqrt(n)))\n",
        "\n",
        "\n",
        "# Specify the device (CPU or GPU)\n",
        "device = torch.device(\"cuda\" if torch.cuda.is_available() else \"cpu\")\n",
        "# Set Hyperparameter Tuning\n",
        "# lr_tune = [10**i for i in range(-5,-1)]\n",
        "lr = 0.01\n",
        "latent_dims = [2,5,10,20,50]\n",
        "\n",
        "# Training loop\n",
        "#for lr in lr_tune:\n",
        "for latent_dim in latent_dims:\n",
        "  # Initialize VAE model, optimizer, and data loader\n",
        "  model = VAE(latent_dim)\n",
        "  # Move the model to the specified device\n",
        "  model.to(device)\n",
        "  optimizer = optim.Adam(model.parameters(), lr=lr)\n",
        "  tbar = tqdm(range(epochs))\n",
        "  for epoch in tbar:\n",
        "      model.train()\n",
        "      total_loss = 0\n",
        "      for batch_idx, (data, _) in enumerate(train_loader):\n",
        "          data = data.to(device)\n",
        "          optimizer.zero_grad()\n",
        "          recon_batch, mu, logvar = model(data)\n",
        "          loss = vae_loss(recon_batch, data, mu, logvar)\n",
        "          loss.backward()\n",
        "          total_loss += loss.item()\n",
        "          optimizer.step()\n",
        "\n",
        "      tbar.set_postfix({'latent_dimension':latent_dim,'epoch':epoch,'loss':total_loss / len(train_loader)})\n",
        "      #print('Epoch {}, Loss: {:.4f}'.format(epoch + 1, total_loss / len(train_loader)))\n",
        "\n",
        "  # Save the trained model\n",
        "  torch.save(model.state_dict(), 'vae_mnist.pth')\n",
        "  # ...\n",
        "\n",
        "  # Visualize the learned manifold\n",
        "  visualize_manifold(model,lr=latent_dim)\n"
      ]
    }
  ]
}